{
 "cells": [
  {
   "cell_type": "markdown",
   "metadata": {},
   "source": [
    "# Step 1: Data Loading and Preprocessing\n",
    "We'll start by loading the data and handling any preprocessing tasks such as dealing with missing values and normalizing text fields."
   ]
  },
  {
   "cell_type": "code",
   "execution_count": 1,
   "metadata": {},
   "outputs": [],
   "source": [
    "import numpy as np\n",
    "import pandas as pd\n",
    "import matplotlib.pyplot as plt\n",
    "from sklearn.ensemble import RandomForestClassifier, GradientBoostingClassifier, StackingClassifier\n",
    "from sklearn.linear_model import LogisticRegression\n",
    "from sklearn.neighbors import KNeighborsClassifier\n",
    "from sklearn.tree import DecisionTreeClassifier\n",
    "from sklearn.model_selection import train_test_split, GridSearchCV, cross_val_score\n",
    "from sklearn.metrics import accuracy_score, f1_score\n",
    "from imblearn.over_sampling import SMOTE\n",
    "import gensim"
   ]
  },
  {
   "cell_type": "code",
   "execution_count": 2,
   "metadata": {},
   "outputs": [],
   "source": [
    "# # Load the datasets\n",
    "try:\n",
    "    ltable = pd.read_csv('./dataset/ltable.csv', encoding='ISO-8859-1')\n",
    "    rtable = pd.read_csv('./dataset/rtable.csv', encoding='ISO-8859-1')\n",
    "    train = pd.read_csv('./dataset/train.csv', encoding='ISO-8859-1')\n",
    "    test = pd.read_csv('./dataset/test_HW2.csv', encoding='ISO-8859-1')\n",
    "except Exception as e:\n",
    "    print(\"Error loading with ISO-8859-1:\", e)"
   ]
  },
  {
   "cell_type": "code",
   "execution_count": 3,
   "metadata": {},
   "outputs": [
    {
     "name": "stdout",
     "output_type": "stream",
     "text": [
      "Left Table Preview:\n",
      "   ltable_id                                              title  \\\n",
      "0          0                 draper infrared remote transmitter   \n",
      "1          1   epson 1500 hours 200w uhe projector lamp elplp12   \n",
      "2          2  comprehensive two-piece 75 precision bnc jack ...   \n",
      "3          3                     d-link dcs-1100 network camera   \n",
      "4          4      startech.com rkpw247015 24 outlet power strip   \n",
      "\n",
      "                category          brand     modelno   price  \n",
      "0  electronics - general         draper      121066   58.45  \n",
      "1               monitors          epson     elplp12  438.84  \n",
      "2         tv accessories  comprehensive   bj-2c7559   59.25  \n",
      "3       garden - general         d-link    dcs-1100   99.82  \n",
      "4  electronics - general       startech  rkpw247015   59.00  \n",
      "\n",
      "Right Table Preview:\n",
      "   rtable_id                                              title  \\\n",
      "0          0                  koss eq50 3-band stereo equalizer   \n",
      "1          1              kodak black ink cartridge 10b 1163641   \n",
      "2          2  kingston 128mx64 pc2700 compaq evo d320 ktc-d3...   \n",
      "3          3  kinamax ms-ues2 mini high precision usb 3-butt...   \n",
      "4          4    kensington k72349us wireless mouse for netbooks   \n",
      "\n",
      "                category       brand        modelno  price  \n",
      "0  headphone accessories        koss         152132  12.65  \n",
      "1     inkjet printer ink       kodak        1163641  10.28  \n",
      "2  computers accessories    kingston  ktc-d320 / 1g  33.75  \n",
      "3                   mice     kinamax        ms-ues2   6.99  \n",
      "4                   mice  kensington       k72349us  24.00  \n",
      "\n",
      "Training Set Preview:\n",
      "   ltable_id  rtable_id  label  id\n",
      "0        621       3167      0   1\n",
      "1       2115       8789      0   2\n",
      "2        278       9064      0   3\n",
      "3       1673      13279      0   4\n",
      "4       2305       2948      0   5\n",
      "\n",
      "Test Set Preview:\n",
      "   Unnamed: 0  ltable_id  rtable_id  id\n",
      "0           0       1853       2139   0\n",
      "1           1       1718      11835   8\n",
      "2           2       1624       5013   9\n",
      "3           3        614       5969  10\n",
      "4           4       1512      19684  15\n"
     ]
    }
   ],
   "source": [
    "# Display the first few rows of each table\n",
    "print(\"Left Table Preview:\")\n",
    "print(ltable.head())\n",
    "print(\"\\nRight Table Preview:\")\n",
    "print(rtable.head())\n",
    "print(\"\\nTraining Set Preview:\")\n",
    "print(train.head())\n",
    "print(\"\\nTest Set Preview:\")\n",
    "print(test.head())"
   ]
  },
  {
   "cell_type": "code",
   "execution_count": 4,
   "metadata": {},
   "outputs": [
    {
     "name": "stdout",
     "output_type": "stream",
     "text": [
      "\n",
      "Left Table Info:\n",
      "<class 'pandas.core.frame.DataFrame'>\n",
      "RangeIndex: 2554 entries, 0 to 2553\n",
      "Data columns (total 6 columns):\n",
      " #   Column     Non-Null Count  Dtype  \n",
      "---  ------     --------------  -----  \n",
      " 0   ltable_id  2554 non-null   int64  \n",
      " 1   title      2554 non-null   object \n",
      " 2   category   2554 non-null   object \n",
      " 3   brand      2421 non-null   object \n",
      " 4   modelno    2390 non-null   object \n",
      " 5   price      2554 non-null   float64\n",
      "dtypes: float64(1), int64(1), object(4)\n",
      "memory usage: 119.8+ KB\n",
      "None\n",
      "\n",
      "Right Table Info:\n",
      "<class 'pandas.core.frame.DataFrame'>\n",
      "RangeIndex: 22074 entries, 0 to 22073\n",
      "Data columns (total 6 columns):\n",
      " #   Column     Non-Null Count  Dtype  \n",
      "---  ------     --------------  -----  \n",
      " 0   rtable_id  22074 non-null  int64  \n",
      " 1   title      22074 non-null  object \n",
      " 2   category   20845 non-null  object \n",
      " 3   brand      22072 non-null  object \n",
      " 4   modelno    15774 non-null  object \n",
      " 5   price      19214 non-null  float64\n",
      "dtypes: float64(1), int64(1), object(4)\n",
      "memory usage: 1.0+ MB\n",
      "None\n",
      "\n",
      "Training Set Info:\n",
      "<class 'pandas.core.frame.DataFrame'>\n",
      "RangeIndex: 7149 entries, 0 to 7148\n",
      "Data columns (total 4 columns):\n",
      " #   Column     Non-Null Count  Dtype\n",
      "---  ------     --------------  -----\n",
      " 0   ltable_id  7149 non-null   int64\n",
      " 1   rtable_id  7149 non-null   int64\n",
      " 2   label      7149 non-null   int64\n",
      " 3   id         7149 non-null   int64\n",
      "dtypes: int64(4)\n",
      "memory usage: 223.5 KB\n",
      "None\n",
      "\n",
      "Test Set Info:\n",
      "<class 'pandas.core.frame.DataFrame'>\n",
      "RangeIndex: 2500 entries, 0 to 2499\n",
      "Data columns (total 4 columns):\n",
      " #   Column      Non-Null Count  Dtype\n",
      "---  ------      --------------  -----\n",
      " 0   Unnamed: 0  2500 non-null   int64\n",
      " 1   ltable_id   2500 non-null   int64\n",
      " 2   rtable_id   2500 non-null   int64\n",
      " 3   id          2500 non-null   int64\n",
      "dtypes: int64(4)\n",
      "memory usage: 78.3 KB\n",
      "None\n"
     ]
    }
   ],
   "source": [
    "# Basic info of the datasets\n",
    "print(\"\\nLeft Table Info:\")\n",
    "print(ltable.info())\n",
    "print(\"\\nRight Table Info:\")\n",
    "print(rtable.info())\n",
    "print(\"\\nTraining Set Info:\")\n",
    "print(train.info())\n",
    "print(\"\\nTest Set Info:\")\n",
    "print(test.info())"
   ]
  },
  {
   "cell_type": "code",
   "execution_count": 5,
   "metadata": {},
   "outputs": [
    {
     "name": "stdout",
     "output_type": "stream",
     "text": [
      "\n",
      "Missing Values in Left Table:\n",
      "ltable_id      0\n",
      "title          0\n",
      "category       0\n",
      "brand        133\n",
      "modelno      164\n",
      "price          0\n",
      "dtype: int64\n",
      "\n",
      "Missing Values in Right Table:\n",
      "rtable_id       0\n",
      "title           0\n",
      "category     1229\n",
      "brand           2\n",
      "modelno      6300\n",
      "price        2860\n",
      "dtype: int64\n",
      "\n",
      "Missing Values in Training Set:\n",
      "ltable_id    0\n",
      "rtable_id    0\n",
      "label        0\n",
      "id           0\n",
      "dtype: int64\n",
      "\n",
      "Missing Values in Test Set:\n",
      "Unnamed: 0    0\n",
      "ltable_id     0\n",
      "rtable_id     0\n",
      "id            0\n",
      "dtype: int64\n"
     ]
    }
   ],
   "source": [
    "# Checking for missing values\n",
    "print(\"\\nMissing Values in Left Table:\")\n",
    "print(ltable.isnull().sum())\n",
    "print(\"\\nMissing Values in Right Table:\")\n",
    "print(rtable.isnull().sum())\n",
    "print(\"\\nMissing Values in Training Set:\")\n",
    "print(train.isnull().sum())\n",
    "print(\"\\nMissing Values in Test Set:\")\n",
    "print(test.isnull().sum())"
   ]
  },
  {
   "cell_type": "code",
   "execution_count": 6,
   "metadata": {},
   "outputs": [
    {
     "name": "stdout",
     "output_type": "stream",
     "text": [
      "\n",
      "Statistics for Left Table:\n",
      "         ltable_id         price\n",
      "count  2554.000000   2554.000000\n",
      "mean   1276.500000    357.765799\n",
      "std     737.420617   1969.394368\n",
      "min       0.000000      0.000000\n",
      "25%     638.250000     17.055000\n",
      "50%    1276.500000     41.570000\n",
      "75%    1914.750000    146.812500\n",
      "max    2553.000000  70416.500000\n",
      "\n",
      "Statistics for Right Table:\n",
      "          rtable_id         price\n",
      "count  22074.000000  19214.000000\n",
      "mean   11036.500000    108.845883\n",
      "std     6372.359257    404.219474\n",
      "min        0.000000      0.010000\n",
      "25%     5518.250000     16.510000\n",
      "50%    11036.500000     34.000000\n",
      "75%    16554.750000     87.965000\n",
      "max    22073.000000  15985.810000\n"
     ]
    }
   ],
   "source": [
    "# Basic statistics for numerical fields\n",
    "print(\"\\nStatistics for Left Table:\")\n",
    "print(ltable.describe())\n",
    "print(\"\\nStatistics for Right Table:\")\n",
    "print(rtable.describe())"
   ]
  },
  {
   "cell_type": "code",
   "execution_count": 7,
   "metadata": {},
   "outputs": [
    {
     "data": {
      "image/png": "[encoded data removed]",
      "text/plain": [
       "<Figure size 640x480 with 1 Axes>"
      ]
     },
     "metadata": {},
     "output_type": "display_data"
    }
   ],
   "source": [
    "# Histogram of prices if price data is available\n",
    "ltable['price'].hist(bins=50, alpha=0.5, label='Left Table')\n",
    "rtable['price'].hist(bins=50, alpha=0.5, label='Right Table')\n",
    "plt.legend()\n",
    "plt.title('Price Distribution')\n",
    "plt.show()"
   ]
  },
  {
   "cell_type": "code",
   "execution_count": 8,
   "metadata": {},
   "outputs": [
    {
     "data": {
      "image/png": "[encoded data removed]",
      "text/plain": [
       "<Figure size 640x480 with 1 Axes>"
      ]
     },
     "metadata": {},
     "output_type": "display_data"
    },
    {
     "data": {
      "image/png": "[encoded data removed]",
      "text/plain": [
       "<Figure size 640x480 with 1 Axes>"
      ]
     },
     "metadata": {},
     "output_type": "display_data"
    }
   ],
   "source": [
    "# Count of products per brand for both tables\n",
    "ltable['brand'].value_counts().head(20).plot(kind='bar', title='Top 20 Brands in Left Table')\n",
    "plt.show()\n",
    "\n",
    "rtable['brand'].value_counts().head(20).plot(kind='bar', title='Top 20 Brands in Right Table')\n",
    "plt.show()"
   ]
  },
  {
   "cell_type": "code",
   "execution_count": 9,
   "metadata": {},
   "outputs": [],
   "source": [
    "# Fill missing values and normalize text\n",
    "def preprocess_data(df):\n",
    "    df.fillna({'brand': '', 'modelno': '', 'category': ''}, inplace=True)\n",
    "    df['title'] = df['title'].str.lower().str.replace(r'\\W', '')\n",
    "    return df"
   ]
  },
  {
   "cell_type": "code",
   "execution_count": 10,
   "metadata": {},
   "outputs": [],
   "source": [
    "ltable = preprocess_data(ltable)\n",
    "rtable = preprocess_data(rtable)"
   ]
  },
  {
   "cell_type": "markdown",
   "metadata": {},
   "source": [
    "# Step 2: Feature Engineering\n",
    "We need to create features that capture the similarity between product records in the two tables."
   ]
  },
  {
   "cell_type": "code",
   "execution_count": 11,
   "metadata": {},
   "outputs": [],
   "source": [
    "# Function to train Word2Vec model on our corpus of titles\n",
    "def train_word2vec(ltable, rtable):\n",
    "    # Combine all titles from both tables into one large list\n",
    "    all_titles = ltable['title'].tolist() + rtable['title'].tolist()\n",
    "    sentences = [title.split() for title in all_titles]\n",
    "    # Train a Word2Vec model\n",
    "    model = gensim.models.Word2Vec(sentences, vector_size=100, window=5, min_count=1, workers=4)\n",
    "    return model\n",
    "\n",
    "# Train Word2Vec on the entire dataset\n",
    "word2vec_model = train_word2vec(ltable, rtable)\n",
    "\n",
    "# Function to vectorize titles using the Word2Vec model\n",
    "def vectorize_title(title, model):\n",
    "    vectors = [model.wv[word] for word in title.split() if word in model.wv]\n",
    "    return np.mean(vectors, axis=0) if vectors else np.zeros(model.vector_size)\n",
    "\n",
    "# Vectorize titles in both ltable and rtable\n",
    "ltable['title_vec'] = ltable['title'].apply(lambda x: vectorize_title(x, word2vec_model))\n",
    "rtable['title_vec'] = rtable['title'].apply(lambda x: vectorize_title(x, word2vec_model))"
   ]
  },
  {
   "cell_type": "code",
   "execution_count": 12,
   "metadata": {},
   "outputs": [],
   "source": [
    "# Create interaction features\n",
    "def create_interaction_features(df):\n",
    "    df['brand_category_interaction'] = df['brand'] + \"_\" + df['category']\n",
    "    return df\n",
    "\n",
    "ltable = create_interaction_features(ltable)\n",
    "rtable = create_interaction_features(rtable)"
   ]
  },
  {
   "cell_type": "code",
   "execution_count": 13,
   "metadata": {},
   "outputs": [],
   "source": [
    "def enrich_features(df):\n",
    "    df['title_length'] = df['title'].apply(lambda x: len(x.split()))\n",
    "    df['has_numbers'] = df['title'].str.contains(r'\\d').astype(int)\n",
    "    return df\n",
    "\n",
    "ltable = enrich_features(ltable)\n",
    "rtable = enrich_features(rtable)"
   ]
  },
  {
   "cell_type": "code",
   "execution_count": 14,
   "metadata": {},
   "outputs": [
    {
     "name": "stdout",
     "output_type": "stream",
     "text": [
      "Columns after merging: Index(['ltable_id', 'rtable_id', 'label', 'id', 'title', 'category', 'brand',\n",
      "       'modelno', 'price', 'title_vec', 'brand_category_interaction',\n",
      "       'title_length', 'has_numbers', 'title_r', 'category_r', 'brand_r',\n",
      "       'modelno_r', 'price_r', 'title_vec_r', 'brand_category_interaction_r',\n",
      "       'title_length_r', 'has_numbers_r'],\n",
      "      dtype='object')\n",
      "Columns after merging: Index(['Unnamed: 0', 'ltable_id', 'rtable_id', 'id', 'title', 'category',\n",
      "       'brand', 'modelno', 'price', 'title_vec', 'brand_category_interaction',\n",
      "       'title_length', 'has_numbers', 'title_r', 'category_r', 'brand_r',\n",
      "       'modelno_r', 'price_r', 'title_vec_r', 'brand_category_interaction_r',\n",
      "       'title_length_r', 'has_numbers_r'],\n",
      "      dtype='object')\n",
      "Index(['ltable_id', 'rtable_id', 'label', 'id', 'title', 'category', 'brand',\n",
      "       'modelno', 'price', 'title_vec', 'brand_category_interaction',\n",
      "       'title_length', 'has_numbers', 'title_r', 'category_r', 'brand_r',\n",
      "       'modelno_r', 'price_r', 'title_vec_r', 'brand_category_interaction_r',\n",
      "       'title_length_r', 'has_numbers_r', 'cosine_similarity_w2v',\n",
      "       'title_jaccard', 'brand_equal', 'modelno_equal', 'category_equal'],\n",
      "      dtype='object')\n"
     ]
    }
   ],
   "source": [
    "def create_final_features(df, ltable, rtable):\n",
    "    # Merging and explicitly checking the columns\n",
    "    df = df.merge(ltable, left_on='ltable_id', right_on='ltable_id', suffixes=('', '_l'))\n",
    "    df = df.merge(rtable, left_on='rtable_id', right_on='rtable_id', suffixes=('', '_r'))\n",
    "    \n",
    "    print(\"Columns after merging:\", df.columns)  # Debug statement to check column names\n",
    "\n",
    "    # Calculate cosine similarity from Word2Vec vectors\n",
    "    df['cosine_similarity_w2v'] = df.apply(lambda x: np.dot(x['title_vec'], x['title_vec_r']) /\n",
    "                                           (np.linalg.norm(x['title_vec']) * np.linalg.norm(x['title_vec_r']) + 1e-10), axis=1)\n",
    "    \n",
    "    # Jaccard Similarity for title\n",
    "    def jaccard_similarity(list1, list2):\n",
    "        intersection = len(set(list1).intersection(list2))\n",
    "        union = len(set(list1).union(list2))\n",
    "        return intersection / union if union != 0 else 0\n",
    "    \n",
    "    df['title_jaccard'] = df.apply(lambda x: jaccard_similarity(x['title'].split(), x['title_r'].split()), axis=1)\n",
    "\n",
    "    # Equal checks for brand, modelno, and category\n",
    "    df['brand_equal'] = (df['brand'] == df['brand_r']).astype(int)\n",
    "    df['modelno_equal'] = (df['modelno'] == df['modelno_r']).astype(int)\n",
    "    df['category_equal'] = (df['category'] == df['category_r']).astype(int)\n",
    "    \n",
    "    return df\n",
    "\n",
    "# Usage\n",
    "train_data = create_final_features(train, ltable, rtable)\n",
    "test_data = create_final_features(test, ltable, rtable)\n",
    "\n",
    "# Now select the features to be used in training\n",
    "features = [\n",
    "    'cosine_similarity_w2v', 'title_jaccard', 'brand_equal', 'modelno_equal', 'category_equal',\n",
    "    'title_length', 'has_numbers']\n",
    "\n",
    "# Verify features exist in the DataFrame\n",
    "print(train_data.columns)"
   ]
  },
  {
   "cell_type": "code",
   "execution_count": 15,
   "metadata": {},
   "outputs": [],
   "source": [
    "# Balance dataset using SMOTE\n",
    "X, y = train_data[features], train_data['label']\n",
    "smote = SMOTE(random_state=42)\n",
    "X_smote, y_smote = smote.fit_resample(X, y)"
   ]
  },
  {
   "cell_type": "markdown",
   "metadata": {},
   "source": [
    "# Step 3: Model Training\n",
    "We'll use a Random Forest classifier as it generally performs well for binary classification tasks like this."
   ]
  },
  {
   "cell_type": "code",
   "execution_count": 16,
   "metadata": {},
   "outputs": [],
   "source": [
    "# Define classifier parameter grids\n",
    "param_grids = {\n",
    "    'RandomForest': {\n",
    "        'classifier': RandomForestClassifier(random_state=42),\n",
    "        'params': {'n_estimators': [100, 300, 500], 'max_depth': [None, 10, 20], 'min_samples_split': [2, 5, 10]}\n",
    "    },\n",
    "    'GradientBoosting': {\n",
    "        'classifier': GradientBoostingClassifier(random_state=42),\n",
    "        'params': {'n_estimators': [100, 200], 'learning_rate': [0.1, 0.05], 'max_depth': [3, 7]}\n",
    "    },\n",
    "    'DecisionTree': {\n",
    "        'classifier': DecisionTreeClassifier(random_state=42),\n",
    "        'params': {'max_depth': [None, 10, 20], 'min_samples_split': [2, 5, 10]}\n",
    "    },\n",
    "    'KNeighbors': {\n",
    "        'classifier': KNeighborsClassifier(),\n",
    "        'params': {'n_neighbors': [3, 5, 7]}\n",
    "    }\n",
    "}\n",
    "\n",
    "# Split data for training and validation\n",
    "X_train, X_val, y_train, y_val = train_test_split(X_smote, y_smote, test_size=0.2, random_state=42)"
   ]
  },
  {
   "cell_type": "code",
   "execution_count": 17,
   "metadata": {},
   "outputs": [
    {
     "name": "stdout",
     "output_type": "stream",
     "text": [
      "Starting grid search for RandomForest.\n",
      "Fitting 10 folds for each of 27 candidates, totalling 270 fits\n",
      "Best parameters for RandomForest: {'max_depth': None, 'min_samples_split': 2, 'n_estimators': 500}\n",
      "Starting grid search for GradientBoosting.\n",
      "Fitting 10 folds for each of 8 candidates, totalling 80 fits\n",
      "Best parameters for GradientBoosting: {'learning_rate': 0.1, 'max_depth': 7, 'n_estimators': 200}\n",
      "Starting grid search for DecisionTree.\n",
      "Fitting 10 folds for each of 9 candidates, totalling 90 fits\n",
      "Best parameters for DecisionTree: {'max_depth': None, 'min_samples_split': 2}\n",
      "Starting grid search for KNeighbors.\n",
      "Fitting 10 folds for each of 3 candidates, totalling 30 fits\n",
      "Best parameters for KNeighbors: {'n_neighbors': 3}\n"
     ]
    }
   ],
   "source": [
    "best_models = {}\n",
    "for name, spec in param_grids.items():\n",
    "    print(f\"Starting grid search for {name}.\")\n",
    "    grid_search = GridSearchCV(spec['classifier'], spec['params'], cv=10, scoring='f1', verbose=1)\n",
    "    grid_search.fit(X_train, y_train)\n",
    "    best_models[name] = grid_search.best_estimator_\n",
    "    print(f\"Best parameters for {name}: {grid_search.best_params_}\")"
   ]
  },
  {
   "cell_type": "code",
   "execution_count": 18,
   "metadata": {},
   "outputs": [
    {
     "name": "stdout",
     "output_type": "stream",
     "text": [
      "RandomForest - Average F1 Score: 0.918 (+/- 0.022)\n",
      "GradientBoosting - Average F1 Score: 0.942 (+/- 0.090)\n",
      "DecisionTree - Average F1 Score: 0.898 (+/- 0.053)\n",
      "KNeighbors - Average F1 Score: 0.891 (+/- 0.014)\n"
     ]
    }
   ],
   "source": [
    "model_scores = {}\n",
    "for name, model in best_models.items():\n",
    "    scores = cross_val_score(model, X_smote, y_smote, cv=10, scoring='f1')\n",
    "    model_scores[name] = np.mean(scores)\n",
    "    print(f\"{name} - Average F1 Score: {np.mean(scores):.3f} (+/- {np.std(scores) * 2:.3f})\")"
   ]
  },
  {
   "cell_type": "code",
   "execution_count": 19,
   "metadata": {},
   "outputs": [
    {
     "name": "stdout",
     "output_type": "stream",
     "text": [
      "Stacking Classifier - F1 Score: 0.942\n"
     ]
    }
   ],
   "source": [
    "stacking_clf = StackingClassifier(\n",
    "    estimators=[(name, model) for name, model in best_models.items()],\n",
    "    final_estimator=LogisticRegression(),\n",
    "    cv=10, verbose=1\n",
    ")\n",
    "stacking_clf.fit(X_train, y_train)\n",
    "stack_f1 = cross_val_score(stacking_clf, X_smote, y_smote, cv=10, scoring='f1').mean()\n",
    "model_scores['Stacking'] = stack_f1\n",
    "print(f\"Stacking Classifier - F1 Score: {stack_f1:.3f}\")"
   ]
  },
  {
   "cell_type": "markdown",
   "metadata": {},
   "source": [
    "# Step 4: Submission Preparation\n",
    "Prepare the data in the format required by the competition."
   ]
  },
  {
   "cell_type": "code",
   "execution_count": 20,
   "metadata": {},
   "outputs": [
    {
     "name": "stdout",
     "output_type": "stream",
     "text": [
      "Selected best model: Stacking with F1 Score: 0.942\n"
     ]
    }
   ],
   "source": [
    "best_model_name = max(model_scores, key=model_scores.get)\n",
    "best_model = best_models[best_model_name] if best_model_name in best_models else stacking_clf\n",
    "print(f\"Selected best model: {best_model_name} with F1 Score: {model_scores[best_model_name]:.3f}\")\n",
    "\n",
    "best_model.fit(X_smote, y_smote)\n",
    "final_predictions = best_model.predict(test_data[features])\n",
    "test_data['predictions'] = final_predictions\n",
    "test_data[['id', 'predictions']].to_csv('./Submission/final_predictions.csv', index=False)"
   ]
  }
 ],
 "metadata": {
  "kernelspec": {
   "display_name": "entity_matching",
   "language": "python",
   "name": "python3"
  },
  "language_info": {
   "codemirror_mode": {
    "name": "ipython",
    "version": 3
   },
   "file_extension": ".py",
   "mimetype": "text/x-python",
   "name": "python",
   "nbconvert_exporter": "python",
   "pygments_lexer": "ipython3",
   "version": "3.11.9"
  }
 },
 "nbformat": 4,
 "nbformat_minor": 2
}
